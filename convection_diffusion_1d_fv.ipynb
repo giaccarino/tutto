{
 "cells": [
  {
   "cell_type": "markdown",
   "metadata": {},
   "source": [
    "# Convection-Diffusion in 1D\n",
    "\n",
    "ME469 - Computational Methods in Fluid Dynamics - Stanford University\n",
    "\n",
    "Example #3\n",
    "\n",
    "These examples are provided as part of the ME469 class (Spring 2018).\n",
    "\n",
    "For comments or corrections, please contact jops at stanford dot edu"
   ]
  },
  {
   "cell_type": "markdown",
   "metadata": {},
   "source": [
    "## Objective\n",
    "Study the convergence rate of the solution to the linear convection-diffusion equation using different finite volume schemes "
   ]
  },
  {
   "cell_type": "markdown",
   "metadata": {
    "collapsed": true
   },
   "source": [
    "We wish to solve the transport of a contaminant $\\phi$ in a closed space. The mathematical model chosen is 1D linear convection/diffusion equation using explicit finite difference schemes"
   ]
  },
  {
   "cell_type": "markdown",
   "metadata": {},
   "source": [
    "$$\\int_S \\left( \\vec{v} \\cdot \\vec{n} \\right) \\phi dS   = \\int_S \\gamma \\left( \\vec{\\nabla}\\phi \\cdot \\vec{n}  \\right) dS $$"
   ]
  },
  {
   "cell_type": "markdown",
   "metadata": {},
   "source": [
    "$\\phi(x)$ is a scalar quantity (i.e. the concentration of a pollutant - defined in parts-per-million). We seek a solution using different numerical discretization on a 1D domain $S$, with imposed values of $\\phi$ at the left ($x=0$) and right ($x=L$) boundaries. The convection velocity $\\vec{v}$ is simply $u$ ($u>0$) in 1D, and $\\gamma$ is the diffusion coefficient.\n",
    "\n",
    "Let's first define the exact solution, which is simply \n",
    "\n",
    "$$ \\frac{ \\phi(x)-\\phi_0}{\\phi_L-\\phi_0} = \\frac{exp (Pe\\cdot x/L) - 1}{exp (Pe) -1} $$\n",
    "\n",
    "where  $\\phi_0$ and $\\phi_L$ are the boundary values, and $Pe=uL/\\gamma$ is the Peclet number (or Reynolds number) that controls the relative importance of convection and diffusion.\n",
    "\n",
    "The numerical solution is defined as $\\phi(x,t) \\approx \\phi(x_i,t^n)= \\phi^n_i$ on  a grid consisting of $nno$ control volumes. $x_0$ and $x_{nno}$ are the left and right boundariy locations,  while $x_1,x_2,\\cdots,x_{nno-1}$ are the internal nodes. $xc_0, xc_1, \\cdots, x_{ncv-1}$ are the centroids of the $ncv$ control volumes."
   ]
  },
  {
   "cell_type": "code",
   "execution_count": 42,
   "metadata": {
    "collapsed": true
   },
   "outputs": [],
   "source": [
    "#set things up\n",
    "import numpy  as np                       \n",
    "import pylab as pl\n",
    "import time, sys  \n",
    "%matplotlib inline "
   ]
  },
  {
   "cell_type": "markdown",
   "metadata": {},
   "source": [
    "### Let's get started\n",
    "Set physical and numerical parameters for the problem, and define a suitable initiation condition"
   ]
  },
  {
   "cell_type": "code",
   "execution_count": 43,
   "metadata": {},
   "outputs": [
    {
     "name": "stdout",
     "output_type": "stream",
     "text": [
      "Peclet Number =  10.0\n"
     ]
    }
   ],
   "source": [
    "u = 1         # convection speed [m/s]\n",
    "gamma = 0.1     # diffusion coefficient [m^2/s]\n",
    "L = 1.0         # length of the domain (in x) [m]\n",
    "phi0 = 0    # value at x=0\n",
    "phiL = 1    # value at x=1\n",
    "\n",
    "peclet = u*L/gamma \n",
    "print \"Peclet Number = \",peclet"
   ]
  },
  {
   "cell_type": "code",
   "execution_count": 44,
   "metadata": {},
   "outputs": [
    {
     "data": {
      "image/png": "[encoded data removed]",
      "text/plain": [
       "<matplotlib.figure.Figure at 0x10680c190>"
      ]
     },
     "metadata": {},
     "output_type": "display_data"
    }
   ],
   "source": [
    "# define initial condition   \n",
    "def ic(x):\n",
    "    # initial distribution is linear \n",
    "    phi_ic = phi0 + x*(phiL-phi0)/L\n",
    "    return phi_ic\n",
    "\n",
    "# plot the initial condition to check that is what you expect...\n",
    "def ic_plot():\n",
    "    x = np.linspace(0,L,100)\n",
    "    phi = np.zeros(100)  \n",
    "    for i in range(100):\n",
    "        phi[i]=ic(x[i])\n",
    "    pl.clf()\n",
    "    # make sure axis have labels and you include a legend\n",
    "    pl.plot(x,phi, '-',label='Initial Condition')\n",
    "    pl.legend()\n",
    "    pl.xlabel(\"x\",fontsize=16)  \n",
    "    pl.ylabel(r\"$\\phi $\",fontsize=16)\n",
    "   \n",
    "ic_plot()"
   ]
  },
  {
   "cell_type": "markdown",
   "metadata": {},
   "source": [
    "Some utility functions that will be useful later"
   ]
  },
  {
   "cell_type": "code",
   "execution_count": 45,
   "metadata": {
    "collapsed": true
   },
   "outputs": [],
   "source": [
    "# set initial condition   \n",
    "def initialize(ncv,xc,phi):\n",
    "    for icv in range(ncv):\n",
    "        phi[icv]=0.0\n",
    "       # phi[icv]=ic(xc[icv])\n",
    "\n",
    "# generate the grid\n",
    "def generate_grid(ncv,x,xc):\n",
    "    nno = ncv+1        # number of nodes\n",
    "    dx = L / ncv    # spacing of the nodes\n",
    "    #x = np.linspace(0,L,nno)  #grid generation!\n",
    "    #xc = np.zeros(ncv)   # control volume centroid\n",
    "    expansion = 0.99 # expansion = 1 gives a unifrom mesh\n",
    "    if expansion==1.0:\n",
    "        for ino in range(nno):\n",
    "            x[ino] = L*(float)(ino)/(float)(nno-1)\n",
    "    else:\n",
    "        delta = L*(1.0-expansion)/(1.0-expansion**(nno-1))\n",
    "        x[0] = 0.0\n",
    "        for ino in range(1,nno):\n",
    "            x[ino] = x[ino-1]+delta\n",
    "            delta = delta * expansion\n",
    "            \n",
    "    for icv in range(ncv): \n",
    "        ino_east = icv+1\n",
    "        ino_west = icv\n",
    "        xc[icv] = 0.5*(x[ino_west]+x[ino_east]) \n",
    "    #print ncv,dx,x,xc\n",
    "    return dx\n",
    "     \n",
    "# compute exact solution\n",
    "def compute_exact(ncv,xc,phi_exact):\n",
    "    for icv in range(ncv):\n",
    "        phi_exact[icv]=phi0 + ( np.exp(peclet*xc[icv]/L) -1.0 )/(np.exp(peclet)-1.0) * (phiL-phi0)    \n",
    "        \n",
    "# plot the solution and compare to the exact one\n",
    "def plot_solution(ncv,xc,phi,phi_exact):\n",
    "    pl.clf()\n",
    "    pl.plot(xc,phi, '-',label='Computational')\n",
    "    pl.plot(xc, phi_exact, 'bs', label='Analytical')\n",
    "    pl.xlabel(\"x\",fontsize=16)  \n",
    "    pl.ylabel(r\"$\\phi $\",fontsize=16)\n",
    "    pl.legend()\n",
    "\n",
    "# compute the L2 norm of the error\n",
    "def compute_error(ncv,dx,phi,phi_exact):\n",
    "    error = np.zeros(ncv) #initialize\n",
    "    for icv in range(ncv):\n",
    "        error[icv]=(phi[icv]-phi_exact[icv])\n",
    "    my_norm = np.sqrt(dx*np.sum(error[0:ncv-1]**2))  \n",
    "    #print my_norm\n",
    "    return my_norm\n"
   ]
  },
  {
   "cell_type": "markdown",
   "metadata": {},
   "source": [
    "## The discretization stencils...\n",
    "Define the discretization schemes - implicit finite volume stencils in the form:\n",
    "\n",
    "$$ A_{east} \\phi_{east}^{n+1} + A_{p} \\phi_{icv}^{n+1} + A_{west} \\phi_{west}^{n+1} = 0 $$\n",
    "\n",
    "where $A_{east/west}=A_{east/west}^{c}+A_{east/west}^{d}$ corresponding to the convective and diffusive fluxes respectively. Flux conservation guarantees that $A_p = - (A_{east}+ A_{west})$.\n",
    "\n",
    "The convective flux contribution on the east side of the cell $icv$ (i.e. the face between $icv$ and $icv+1$) is\n",
    "\n",
    "$$ A_{east}^c =\\begin{cases}  u \\displaystyle\\frac{x_{east}-xc_{icv}}{xc_{icv+1}-xc_{icv}}, & \\text{for the central scheme }.\\\\\n",
    "    0, & \\text{for the upwind scheme}. \\end{cases} $$\n",
    "    \n",
    "The diffusive flux contribution on the east side of the cell $icv$\n",
    "\n",
    "$$ A_{east}^d = -\\gamma \\frac{1}{xc_{icv+1}-xc_{icv}} $$\n",
    "\n",
    "Treatment of the boundaries require a modification of the flux computations. Considering the last internal cell\n",
    "$icv=ncv-1$ the discrete equation is:\n",
    "\n",
    "$$  A_{p} \\phi_{icv}^{n+1} + A_{west} \\phi_{west}^{n+1} = -A_{east} \\phi_L $$\n",
    "\n",
    "where $\\phi_L$ is the boundary value. The flux contributions are:\n",
    "\n",
    "$$ A_{east}^c =\\begin{cases}  u \\displaystyle\\frac{x_{east}-xc_{icv}}{x_{east}-xc_{icv}} = u, & \\text{for the central scheme }.\\\\\n",
    "    0, & \\text{for the upwind scheme}. \\end{cases} $$\n",
    "$$ A_{east}^d = -\\gamma \\frac{1}{x_{east}-xc_{icv}} $$"
   ]
  },
  {
   "cell_type": "code",
   "execution_count": 46,
   "metadata": {
    "collapsed": true
   },
   "outputs": [],
   "source": [
    "# Discretization of convection & diffusion fluxes\n",
    "def fill_matrix(ncv,a_east,a_west,a_p,b,x,xc,scheme=\"central\"):\n",
    "    for icv in range(1, ncv-1): # loop on the internal control volume  \n",
    "        ino_east = icv+1\n",
    "        ino_west = icv\n",
    "        if scheme == \"central\":\n",
    "            # convective fluxes (centered)\n",
    "            a_east[icv] =  u * (x[ino_east]-xc[icv])/(xc[icv+1]-xc[icv]) \n",
    "            a_west[icv] = -u * (xc[icv]-x[ino_west])/(xc[icv]-xc[icv-1])      \n",
    "        else:\n",
    "            # convective fluxes (upwind)\n",
    "            a_east[icv] =  0.0 \n",
    "            a_west[icv] = -u\n",
    "            \n",
    "        #print icv,u * (x[ino_east]-xc[icv])/(xc[icv+1]-xc[icv]),gamma/(xc[icv+1]-xc[icv])\n",
    "        # diffusive fluxes (symmetric/centered)\n",
    "        a_east[icv] +=  -gamma/(xc[icv+1]-xc[icv])\n",
    "        a_west[icv] +=  -gamma/(xc[icv]-xc[icv-1])\n",
    "        # diagonal and right hand side\n",
    "        a_p[icv] = - (a_east[icv] + a_west[icv])\n",
    "        b[icv] = 0.\n",
    "\n",
    "    # treatment of boundary conditions...\n",
    "    \n",
    "    #left/west/most control volume\n",
    "    icv = 0\n",
    "    ino_east = icv+1\n",
    "    ino_west = icv\n",
    "    if scheme == \"central\":\n",
    "        # convective fluxes (centered)\n",
    "        a_east[icv] =  u   \n",
    "        a_west_tmp  = -u * (xc[icv]-x[ino_west])/(xc[icv]-xc[icv-1])\n",
    "    else:\n",
    "        a_east[icv] =  0.0\n",
    "        a_west_tmp  = -u\n",
    "        \n",
    "    # diffusive fluxes (symmetric/centered)\n",
    "    a_east[icv] +=  -gamma/(xc[icv+1]-xc[icv])\n",
    "    a_west_tmp  +=  -gamma/(xc[icv]-x[ino_west])\n",
    "    b[icv] =    - a_west_tmp * phi0\n",
    "    a_p[icv] = - ( a_east[icv] + a_west_tmp)\n",
    "    a_west[icv] = 0.0\n",
    "    #right/east/most control volume\n",
    "    icv=ncv-1\n",
    "    ino_east = icv+1\n",
    "    ino_west = icv\n",
    "    if scheme == \"central\":\n",
    "        # convective fluxes (centered)\n",
    "        a_east_tmp  =  u   \n",
    "        a_west[icv] = -u * (xc[icv]-x[ino_west])/(xc[icv]-xc[icv-1])\n",
    "    else:\n",
    "        a_east_tmp  =  0.0 \n",
    "        a_west[icv] = -u\n",
    "        \n",
    "    # diffusive fluxes (symmetric/centered)\n",
    "    a_east_tmp  +=   -gamma/(x[ino_east]-xc[icv])\n",
    "    a_west[icv] +=   -gamma/(xc[icv]-xc[icv-1]) \n",
    "    b[icv] = - a_east_tmp * phiL\n",
    "    a_p[icv] = - ( a_east_tmp + a_west[icv] )\n",
    "    a_east[icv] = 0.0\n",
    "     \n",
    "# add your own..."
   ]
  },
  {
   "cell_type": "markdown",
   "metadata": {},
   "source": [
    "## Linear System Solver\n",
    "\n",
    "Implicit schemes require a linear system solver. In 1D the discretization leads to a tridiagonal system. The matrix of coefficient is stored in terms of diagonals\n",
    "\n",
    "$$ A_{east} \\phi_{east}  + A_{p} \\phi_{icv}  + A_{west} \\phi_{west}  = b_{icv} $$\n",
    "\n",
    "Two solvers are implemented, the standard Gauss-Seidel and the Tridiagonal solver."
   ]
  },
  {
   "cell_type": "code",
   "execution_count": 47,
   "metadata": {
    "collapsed": true
   },
   "outputs": [],
   "source": [
    "# solve a linear system using gauss-seidel\n",
    "def solve_gs(ncv,phi,a_east,a_west,a_p,b,n_iter,tolerance):\n",
    "    for n in range(n_iter):\n",
    "        # update solution - internal cells\n",
    "        for icv in range(ncv):\n",
    "            icv_east = min(icv+1,ncv-1)  # assumes a_east[ncv-1]=0\n",
    "            icv_west = max(icv-1,0)      # assumes a_west[0]=0\n",
    "            phi[icv]=(b[icv]-a_east[icv]*phi[icv_east]-a_west[icv]*phi[icv_west])/a_p[icv]\n",
    "        # compute residual\n",
    "        residual = 0.0\n",
    "        for icv in range(ncv):\n",
    "            icv_east = min(icv+1,ncv-1)  # assumes a_east[ncv-1]=0\n",
    "            icv_west = max(icv-1,0)      # assumes a_west[0]=0  \n",
    "            residual=residual+np.abs(b[icv]-a_east[icv]*phi[icv_east]-a_west[icv]*phi[icv_west]-a_p[icv]*phi[icv])\n",
    "        if residual < tolerance:\n",
    "            break\n",
    "    if residual > tolerance:\n",
    "        print \"Gauss-Seidel Iteration \",n,\"Residual \",residual\n",
    "    \n",
    "# solve a linear system using TDMA\n",
    "def solve_tdma(ncv,phi,a_east,a_west,a_p,b):\n",
    "    bpr = np.zeros(ncv)\n",
    "    v = np.zeros(ncv)\n",
    "    for icv in range(0,ncv):\n",
    "        icv_east = min(icv+1,ncv-1)  # assumes a_east[ncv-1]=0\n",
    "        icv_west = max(icv-1,0)      # assumes a_west[0]=0  \n",
    "        bpr[icv] = 1.0/(a_p[icv]-a_west[icv]*a_east[icv_west]*bpr[icv_west])\n",
    "        v[icv]=b[icv]-a_west[icv]*v[icv_west]*bpr[icv_west]\n",
    "    for icv in range(ncv-1,-1,-1):\n",
    "        icv_east = min(icv+1,ncv-1)  # assumes a_east[ncv-1]=0\n",
    "        icv_west = max(icv-1,0)      # assumes a_west[0]=0  \n",
    "        phi[icv]=(v[icv]-a_east[icv]*phi[icv_east])*bpr[icv]\n"
   ]
  },
  {
   "cell_type": "markdown",
   "metadata": {},
   "source": [
    "## Solve the system\n",
    "\n",
    "This is the actual solution step"
   ]
  },
  {
   "cell_type": "code",
   "execution_count": 48,
   "metadata": {
    "collapsed": true
   },
   "outputs": [],
   "source": [
    "# solve the PDE\n",
    "def solve(ncv,scheme=\"central\",solver=\"tdma\",plot=1):  \n",
    "    \n",
    "    nno = ncv+1        # number of nodes\n",
    "    #dx = L / (nno-1)    # spacing of the nodes\n",
    "    x = np.zeros(nno)  #grid generation!\n",
    "    xc = np.zeros(ncv)   # control volume centroid\n",
    "    dx = generate_grid(ncv,x,xc)\n",
    "    \n",
    "    phi = np.zeros(ncv)  \n",
    "    phi_exact = np.zeros(ncv)  \n",
    "    # setup matrix and right hand side\n",
    "    a_east = np.zeros(ncv)  \n",
    "    a_west = np.zeros(ncv)  \n",
    "    a_p = np.zeros(ncv)  \n",
    "    b = np.zeros(ncv)  \n",
    "    initialize(ncv,xc,phi) #initialize\n",
    "     \n",
    "    fill_matrix(ncv,a_east,a_west,a_p,b,x,xc,scheme)\n",
    "    if solver==\"tdma\":\n",
    "        solve_tdma(ncv,phi,a_east,a_west,a_p,b)\n",
    "    else:\n",
    "        solve_gs(ncv,phi,a_east,a_west,a_p,b,5000,1.0e-5)\n",
    "      \n",
    "    # compare the solution with the exact and compute the L2 norm\n",
    "    compute_exact(ncv,xc,phi_exact)\n",
    "    enorm = compute_error(ncv,dx,phi,phi_exact)\n",
    "    if plot:\n",
    "        plot_solution(ncv,xc,phi,phi_exact)\n",
    "    return dx,enorm"
   ]
  },
  {
   "cell_type": "markdown",
   "metadata": {},
   "source": [
    "## Let's compute something\n",
    "Start with purely symmetric (centered) discretization for both convective and diffusive fluxes "
   ]
  },
  {
   "cell_type": "code",
   "execution_count": 49,
   "metadata": {},
   "outputs": [
    {
     "data": {
      "image/png": "[encoded data removed]",
      "text/plain": [
       "<matplotlib.figure.Figure at 0x10c135850>"
      ]
     },
     "metadata": {},
     "output_type": "display_data"
    }
   ],
   "source": [
    "none, none = solve(25,\"central\",\"tdma\",1)"
   ]
  },
  {
   "cell_type": "markdown",
   "metadata": {},
   "source": [
    "Now for the convective terms using upwinding"
   ]
  },
  {
   "cell_type": "code",
   "execution_count": 50,
   "metadata": {},
   "outputs": [
    {
     "data": {
      "image/png": "[encoded data removed]",
      "text/plain": [
       "<matplotlib.figure.Figure at 0x10c135610>"
      ]
     },
     "metadata": {},
     "output_type": "display_data"
    }
   ],
   "source": [
    "none, none = solve(25,\"upwind\",\"tdma\",1)"
   ]
  },
  {
   "cell_type": "markdown",
   "metadata": {},
   "source": [
    "## Grid Convergence Study\n",
    "Perform a quantitative analysis of the error. Using multiple grids and compare the L2 norm reduction. "
   ]
  },
  {
   "cell_type": "code",
   "execution_count": 51,
   "metadata": {
    "scrolled": true
   },
   "outputs": [
    {
     "name": "stdout",
     "output_type": "stream",
     "text": [
      "Grid  0  Delta =  0.03125  Error = 0.0198341497198 0.00263133522343\n",
      "Grid  1  Delta =  0.015625  Error = 0.00983581505771 0.000578097645079\n",
      "Grid  2  Delta =  0.0078125  Error = 0.00429409999723 9.97159034618e-05\n",
      "Grid  3  Delta =  0.00390625  Error = 0.00160913867356 1.51375420541e-05\n",
      "Grid  4  Delta =  0.001953125  Error = 0.000709134041546 5.21634990657e-06\n"
     ]
    }
   ],
   "source": [
    "# set up a sequence of grids\n",
    "ngrids = 5\n",
    "n = [32,64,128,256,512]\n",
    "delta = np.zeros(ngrids)\n",
    "l2_upwind = np.zeros(ngrids)\n",
    "l2_central = np.zeros(ngrids)\n",
    "nr = np.array(n, dtype=np.float64)  # make this real for plotting\n",
    "\n",
    "# perform the simulations on each grid with different FD schemes\n",
    "for ig in range(ngrids):\n",
    "    delta[ig],l2_upwind[ig] = solve(n[ig],\"upwind\",\"tdma\",0)\n",
    "    delta[ig],l2_central[ig] = solve(n[ig],\"central\",\"tdma\",0)\n",
    "    print \"Grid \",ig,\" Delta = \",delta[ig],\" Error =\",l2_upwind[ig],l2_central[ig]"
   ]
  },
  {
   "cell_type": "code",
   "execution_count": 52,
   "metadata": {},
   "outputs": [
    {
     "data": {
      "image/png": "[encoded data removed]",
      "text/plain": [
       "<matplotlib.figure.Figure at 0x10bbe0310>"
      ]
     },
     "metadata": {},
     "output_type": "display_data"
    }
   ],
   "source": [
    "# plot the classical convergence diagram with first & second order slopes\n",
    "pl.clf()\n",
    "pl.scatter(delta, l2_upwind/l2_upwind[0],color=\"b\", label=\"upwind\")\n",
    "pl.scatter(delta, l2_central/l2_central[0],color=\"r\", label=\"central\")\n",
    "pl.plot(delta,(delta/delta[0]),color=\"k\",label=r\"$\\mathcal{O}(\\Delta x)$\")\n",
    "pl.plot(delta,((delta/delta[0])**2),color=\"r\",label=r\"$\\mathcal{O}(\\Delta x^2)$\")\n",
    "ax = pl.gca()\n",
    "ax.set_xscale('log')\n",
    "ax.set_yscale('log')\n",
    "pl.xlabel(r\"Discretization step, $\\Delta$\",fontsize=16)\n",
    "pl.ylabel(r\"$\\|| \\phi - \\phi^\\mathrm{exact} \\||_2$\",fontsize=16)\n",
    "pl.legend(frameon=False);"
   ]
  },
  {
   "cell_type": "markdown",
   "metadata": {
    "collapsed": true
   },
   "source": [
    "## Further work\n",
    "\n",
    "Implement the exponential discretization scheme"
   ]
  }
 ],
 "metadata": {
  "kernelspec": {
   "display_name": "Python 2",
   "language": "python",
   "name": "python2"
  },
  "language_info": {
   "codemirror_mode": {
    "name": "ipython",
    "version": 2
   },
   "file_extension": ".py",
   "mimetype": "text/x-python",
   "name": "python",
   "nbconvert_exporter": "python",
   "pygments_lexer": "ipython2",
   "version": "2.7.14"
  }
 },
 "nbformat": 4,
 "nbformat_minor": 2
}
