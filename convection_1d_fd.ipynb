{
 "cells": [
  {
   "cell_type": "markdown",
   "metadata": {},
   "source": [
    "# Linear Convection in 1D\n",
    "\n",
    "ME469 - Computational Methods in Fluid Dynamics - Stanford University\n",
    "\n",
    "Example #1\n",
    "\n",
    "These examples are provided as part of the ME469 class (Spring 2018).\n",
    "\n",
    "For comments or corrections, please contact jops at stanford dot edu"
   ]
  },
  {
   "cell_type": "markdown",
   "metadata": {},
   "source": [
    "## Objective\n",
    "Study the convergence rate of the solution to the linear convection equation using different finite difference schemes "
   ]
  },
  {
   "cell_type": "markdown",
   "metadata": {
    "collapsed": true
   },
   "source": [
    "We wish to solve the transport of a contaminant $\\phi$ in time. The mathematical model chosen is 1D linear convection equation using explicit finite difference schemes"
   ]
  },
  {
   "cell_type": "markdown",
   "metadata": {},
   "source": [
    "$$\\frac{\\partial \\phi} {\\partial t} + u\\frac{\\partial \\phi} {\\partial x}=0$$"
   ]
  },
  {
   "cell_type": "markdown",
   "metadata": {},
   "source": [
    "$\\phi$ is a scalar quantity (i.e. the concentration of a pollutant - defined in parts-per-million). We seek a solution using different numerical discretization.\n",
    "Let's first define the exact solution, which is simply $\\phi(t,x)=\\phi_0(x-u t)$ where $\\phi_0(x)$ is the initial condition, and $u$ is a given convection velocity.\n",
    "\n",
    "The numerical solution is defined as $\\phi(x,t) \\approx \\phi(x_i,t^n)= \\phi^n_i$ on  a uniform grid consisting of $nno+1$ nodes. $x_0$ and $x_{nno}$ are the left and right boundaries, respectively. $x_1,x_2,\\cdots,x_{nno-1}$ are the internal nodes."
   ]
  },
  {
   "cell_type": "code",
   "execution_count": 2,
   "metadata": {
    "collapsed": true
   },
   "outputs": [],
   "source": [
    "#set things up\n",
    "import numpy  as np                       \n",
    "import pylab as pl\n",
    "import time, sys  \n",
    "%matplotlib inline "
   ]
  },
  {
   "cell_type": "markdown",
   "metadata": {},
   "source": [
    "### Let's get started\n",
    "Set physical and numerical parameters for the problem, and define a suitable initiation condition"
   ]
  },
  {
   "cell_type": "code",
   "execution_count": 3,
   "metadata": {
    "collapsed": true
   },
   "outputs": [],
   "source": [
    "u = 1.0         # convection speed [m/s]\n",
    "L = 2.0         # length of the domain (in x) [m]\n",
    "T = 0.1         # time integration window [s]\n",
    "cfl = 0.1       # keep it low to ensure stability \n",
    "periodic = 0    # periodicity on/off "
   ]
  },
  {
   "cell_type": "code",
   "execution_count": 27,
   "metadata": {},
   "outputs": [
    {
     "data": {
      "image/png": "[encoded data removed]",
      "text/plain": [
       "<matplotlib.figure.Figure at 0x1112d4690>"
      ]
     },
     "metadata": {},
     "output_type": "display_data"
    }
   ],
   "source": [
    "# define initial condition   \n",
    "def ic(x):\n",
    "    # initial distribution is a gaussian \n",
    "    xcenter = 0.5   # location of the gaussian center\n",
    "    sharpen = 10.0  # increase to sharpen the gaussian\n",
    "    phi_ic = np.exp(-sharpen*(x - xcenter)**2) #+!\n",
    "    return phi_ic\n",
    "\n",
    "# plot the initial condition to check that is what you expect...\n",
    "def ic_plot():\n",
    "    x = np.linspace(0,L,100)\n",
    "    phi = np.zeros(100)  \n",
    "    for i in range(100):\n",
    "        phi[i]=ic(x[i])\n",
    "    pl.clf()\n",
    "    # make sure axis have labels and you include a legend\n",
    "    pl.plot(x,phi, '-',label='Initial Condition')\n",
    "    pl.legend()\n",
    "    pl.xlabel(\"x\",fontsize=16)  \n",
    "    pl.ylabel(r\"$\\phi $\",fontsize=16)\n",
    "   \n",
    "ic_plot()"
   ]
  },
  {
   "cell_type": "markdown",
   "metadata": {},
   "source": [
    "Some utility functions that will be useful later"
   ]
  },
  {
   "cell_type": "code",
   "execution_count": 17,
   "metadata": {
    "collapsed": true
   },
   "outputs": [],
   "source": [
    "# set initial condition   \n",
    "def initialize(nno,x,phi):\n",
    "    for i in range(nno):\n",
    "        phi[i]=ic(x[i])\n",
    "    #check that the initial condition is 1 at x=0\n",
    "    #print \"Initial Condition @ left = \",phi[0]\n",
    "\n",
    "# compute errors\n",
    "def compute_exact(nno,time,x,phi_exact):\n",
    "    time_shift = time\n",
    "    if periodic and time*u > L:\n",
    "        a = divmod(time,L/u)\n",
    "        time_shift = a[1]\n",
    "    for i in range(nno):\n",
    "        phi_exact[i]=ic(x[i]-u*time_shift)\n",
    "\n",
    "# plot the solution and compare to the exact one\n",
    "def plot_solution(nno,x,phi,phi_exact):\n",
    "    pl.clf()\n",
    "    pl.plot(x,phi, '-',label='Computational')\n",
    "    pl.plot(x, phi_exact, 'bs', label='Analytical')\n",
    "    pl.xlabel(\"x\",fontsize=16)  \n",
    "    pl.ylabel(r\"$\\phi $\",fontsize=16)\n",
    "    pl.legend()\n",
    "\n",
    "# compute the L2 norm of the error\n",
    "def compute_error(nno,dx,phi,phi_exact):\n",
    "    error = np.zeros(nno) #initialize\n",
    "    for i in range(nno):\n",
    "        error[i]=(phi[i]-phi_exact[i])\n",
    "    my_norm = np.sqrt(dx*np.sum(error[1:nno-1]**2))     \n",
    "    return my_norm"
   ]
  },
  {
   "cell_type": "markdown",
   "metadata": {},
   "source": [
    "## The meat...\n",
    "Define the discretization schemes - explicit finite difference stencils\n",
    "\n",
    "We consider the upwind scheme\n",
    "\n",
    "$$ \\phi^{n+1}_i = \\phi^n_i - \\frac{u \\Delta t}{\\Delta x} \\left( \\phi_i^n - \\phi_{i-1}^n \\right)$$\n",
    "\n",
    "and the Lax-Wendroff scheme\n",
    "\n",
    "$$ \\phi^{n+1}_i = \\phi^n_i - \\frac{u \\Delta t}{2 \\Delta x} \\left( \\phi_{i+1}^n - \\phi_{i-1}^n \\right) + \\left( \\frac{u \\Delta t}{\\Delta x} \\right)^2 \\left( \\phi_{i+1}^n + \\phi_{i-1}^n - 2\\phi_i^n \\right) $$"
   ]
  },
  {
   "cell_type": "code",
   "execution_count": 18,
   "metadata": {
    "collapsed": true
   },
   "outputs": [],
   "source": [
    "# First Order Upwind\n",
    "def update_upwind(nno,dx,dt,phi):\n",
    "    phi_old = phi.copy() \n",
    "    for i in range(1, nno-1):\n",
    "        im = i-1\n",
    "        phi[i] = phi_old[i]-u*dt/dx*(phi_old[i] - phi_old[im])\n",
    "\n",
    "# Lax Wendroff\n",
    "def update_laxwendroff(nno,dx,dt,phi):\n",
    "    phi_old = phi.copy() \n",
    "    for i in range(1, nno-1):\n",
    "        im = i-1\n",
    "        ip = i+1\n",
    "        phi[i] = phi_old[i]-0.5*u*dt/dx*((phi_old[ip]-phi_old[im])\n",
    "                  -u*dt/dx*(-2.*phi_old[i]+phi_old[im]+phi_old[ip]))\n",
    "\n",
    "# add your own..."
   ]
  },
  {
   "cell_type": "markdown",
   "metadata": {},
   "source": [
    "Boundary conditions and the actual time integration loop"
   ]
  },
  {
   "cell_type": "code",
   "execution_count": 19,
   "metadata": {
    "collapsed": true
   },
   "outputs": [],
   "source": [
    "# set boundary condition (only for periodicity, otherwise the IC is OK)\n",
    "def bc(nno,x,phi,time):\n",
    "    if (periodic):\n",
    "        phi[0]=phi[nno-2] #apply periodicity @ x=0\n",
    "        phi[nno-1]=phi[1] #apply periodicity @ x=L\n",
    "    else:\n",
    "        phi[0]=ic(x[0]-u*time) #ncross the right boundary\n",
    "        #phi[nno-1]=phi[nno-2] #zero-gradient?\n",
    "        phi[nno-1]=ic(x[nno-1]-u*time) #cross the right boundary\n",
    "            \n",
    "# solve the PDE\n",
    "def solve(nno,scheme=\"upwind\",plot=1):  \n",
    "    #by default use upwind and plot solution\n",
    "    dx = L / (nno-1)    # spacing of the nodes\n",
    "    x = np.linspace(0,L,nno)  #grid generation!\n",
    "    phi = np.zeros(nno)  \n",
    "    phi_exact = np.zeros(nno)  \n",
    "    initialize(nno,x,phi) #initialize\n",
    "    time = 0\n",
    "    nts = 0\n",
    "    dt = cfl*dx/u\n",
    "    while time < T:  #integrate up to time T\n",
    "        bc(nno,x,phi,time)\n",
    "        nts = nts + 1\n",
    "        time = time + dt  \n",
    "        # update the solution with a finite difference scheme (explicit)\n",
    "        if scheme == \"upwind\": \n",
    "            update_upwind(nno,dx,dt,phi)\n",
    "        elif scheme == \"laxwendroff\":\n",
    "            update_laxwendroff(nno,dx,dt,phi)\n",
    "    # compare the solution with the exact and compute the L2 norm\n",
    "    compute_exact(nno,time,x,phi_exact)\n",
    "    enorm = compute_error(nno,dx,phi,phi_exact)\n",
    "    if plot:\n",
    "        plot_solution(nno,x,phi,phi_exact)\n",
    "    return dx,enorm"
   ]
  },
  {
   "cell_type": "markdown",
   "metadata": {},
   "source": [
    "## Let's compute something\n",
    "Start with upwind "
   ]
  },
  {
   "cell_type": "code",
   "execution_count": 20,
   "metadata": {},
   "outputs": [
    {
     "data": {
      "image/png": "[encoded data removed]",
      "text/plain": [
       "<matplotlib.figure.Figure at 0x11bb06f10>"
      ]
     },
     "metadata": {},
     "output_type": "display_data"
    }
   ],
   "source": [
    "none, none = solve(32,\"upwind\",1)"
   ]
  },
  {
   "cell_type": "markdown",
   "metadata": {},
   "source": [
    "Now Lax-Wendroff"
   ]
  },
  {
   "cell_type": "code",
   "execution_count": 21,
   "metadata": {},
   "outputs": [
    {
     "data": {
      "image/png": "[encoded data removed]",
      "text/plain": [
       "<matplotlib.figure.Figure at 0x11bfdf590>"
      ]
     },
     "metadata": {},
     "output_type": "display_data"
    }
   ],
   "source": [
    "none, none = solve(32,\"laxwendroff\",1)"
   ]
  },
  {
   "cell_type": "markdown",
   "metadata": {},
   "source": [
    "## Grid Convergence Study\n",
    "Perform a quantitative analysis of the error. Using multiple grids and compare the L2 norm reduction. "
   ]
  },
  {
   "cell_type": "code",
   "execution_count": 22,
   "metadata": {
    "scrolled": true
   },
   "outputs": [
    {
     "name": "stdout",
     "output_type": "stream",
     "text": [
      "Grid  0  Delta =  0.133333333333  Error = 0.0594241582858 0.0221426390831\n",
      "Grid  1  Delta =  0.0645161290323  Error = 0.0300105821893 0.0053153852187\n",
      "Grid  2  Delta =  0.031746031746  Error = 0.0151003025064 0.00128373310695\n",
      "Grid  3  Delta =  0.0157480314961  Error = 0.00757543427818 0.000314431525579\n",
      "Grid  4  Delta =  0.0078431372549  Error = 0.00379419589414 7.774865555e-05\n",
      "Grid  5  Delta =  0.0038240917782  Error = 0.00185529987558 1.84497597747e-05\n"
     ]
    }
   ],
   "source": [
    "# set up a sequence of grids\n",
    "ngrids = 6\n",
    "n = [16,32,64,128,256,524]\n",
    "delta = np.zeros(ngrids)\n",
    "l2_upwind = np.zeros(ngrids)\n",
    "l2_laxwendroff = np.zeros(ngrids)\n",
    "nr = np.array(n, dtype=np.float64)  # make this real for plotting\n",
    "\n",
    "# perform the simulations on each grid with different FD schemes\n",
    "for ig in range(ngrids):\n",
    "    delta[ig],l2_upwind[ig] = solve(n[ig],\"upwind\",0)\n",
    "    delta[ig],l2_laxwendroff[ig] = solve(n[ig],\"laxwendroff\",0)\n",
    "    print \"Grid \",ig,\" Delta = \",delta[ig],\" Error =\",l2_upwind[ig],l2_laxwendroff[ig]"
   ]
  },
  {
   "cell_type": "code",
   "execution_count": 23,
   "metadata": {},
   "outputs": [
    {
     "data": {
      "image/png": "[encoded data removed]",
      "text/plain": [
       "<matplotlib.figure.Figure at 0x11bff2b50>"
      ]
     },
     "metadata": {},
     "output_type": "display_data"
    }
   ],
   "source": [
    "# plot the classical convergence diagram with first & second order slopes\n",
    "pl.clf()\n",
    "pl.scatter(delta, l2_upwind/l2_upwind[0],color=\"b\", label=\"upwind\")\n",
    "pl.scatter(delta, l2_laxwendroff/l2_laxwendroff[0],color=\"r\", label=\"lax-wendroff\")\n",
    "pl.plot(delta,(delta/delta[0]),color=\"k\",label=r\"$\\mathcal{O}(\\Delta x)$\")\n",
    "pl.plot(delta,((delta/delta[0])**2),color=\"r\",label=r\"$\\mathcal{O}(\\Delta x^2)$\")\n",
    "ax = pl.gca()\n",
    "ax.set_xscale('log')\n",
    "ax.set_yscale('log')\n",
    "pl.xlabel(r\"Discretization step, $\\Delta$\",fontsize=16)\n",
    "pl.ylabel(r\"$\\|| \\phi - \\phi^\\mathrm{exact} \\||_2$\",fontsize=16)\n",
    "pl.legend(frameon=False);"
   ]
  },
  {
   "cell_type": "markdown",
   "metadata": {},
   "source": [
    "## Further work\n",
    "Change the position and the spread of the gaussian initial condition and see what happens to the accuracy"
   ]
  },
  {
   "cell_type": "code",
   "execution_count": null,
   "metadata": {
    "collapsed": true
   },
   "outputs": [],
   "source": []
  }
 ],
 "metadata": {
  "kernelspec": {
   "display_name": "Python 2",
   "language": "python",
   "name": "python2"
  },
  "language_info": {
   "codemirror_mode": {
    "name": "ipython",
    "version": 2
   },
   "file_extension": ".py",
   "mimetype": "text/x-python",
   "name": "python",
   "nbconvert_exporter": "python",
   "pygments_lexer": "ipython2",
   "version": "2.7.14"
  }
 },
 "nbformat": 4,
 "nbformat_minor": 2
}
