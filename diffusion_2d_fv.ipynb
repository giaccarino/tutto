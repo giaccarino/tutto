{
 "cells": [
  {
   "cell_type": "markdown",
   "metadata": {},
   "source": [
    "# Diffusion in 2D\n",
    "\n",
    "ME469 - Computational Methods in Fluid Dynamics - Stanford University\n",
    "\n",
    "Example #4\n",
    "\n",
    "These examples are provided as part of the ME469 class (Spring 2018).\n",
    "\n",
    "For comments or corrections, please contact jops at stanford dot edu"
   ]
  },
  {
   "cell_type": "markdown",
   "metadata": {},
   "source": [
    "## Objective\n",
    "Study the convergence rate of the solution to the steady diffusion equation using different a finite volume scheme.\n",
    "\n",
    "We wish to solve the diffusive transport of a contaminant $\\phi$ in a closed space. The mathematical model chosen is the steady 2D diffusion equation with a source term.\n",
    "\n",
    "$$ \\int_S \\gamma \\left( \\vec{\\nabla}\\phi \\cdot \\vec{n}  \\right) dS = \\int_V b dV $$\n",
    "\n",
    "where $S$ is the surface of the control volume, $V$ its volume and $\\gamma$ is the diffusion coefficient. The source term $b$ is also known. boundary conditions are specified as Dirichlet on all boundaries."
   ]
  },
  {
   "cell_type": "code",
   "execution_count": 221,
   "metadata": {
    "collapsed": true
   },
   "outputs": [],
   "source": [
    "#set things up\n",
    "import numpy  as np                       \n",
    "import pylab as pl\n",
    "import time, sys  \n",
    "%matplotlib inline "
   ]
  },
  {
   "cell_type": "markdown",
   "metadata": {},
   "source": [
    "### Let's get started\n",
    "Set physical and numerical parameters for the problem, and define a suitable initiation condition"
   ]
  },
  {
   "cell_type": "code",
   "execution_count": 231,
   "metadata": {},
   "outputs": [],
   "source": [
    "gamma = 0.01     # diffusion coefficient [m^2/s]\n",
    "L_x = 3.0        # length of the domain   [m]\n",
    "L_y = 3.0        # length of the domain   [m]\n",
    "p = 10.0         # polynomial order to describe the exact, reference solution"
   ]
  },
  {
   "cell_type": "markdown",
   "metadata": {},
   "source": [
    "We assume that the exact solution is expressed as a polynomial of order $p$ and consequently compute the source term $b$. "
   ]
  },
  {
   "cell_type": "code",
   "execution_count": 232,
   "metadata": {},
   "outputs": [
    {
     "data": {
      "text/plain": [
       "<matplotlib.figure.Figure at 0x111074050>"
      ]
     },
     "metadata": {},
     "output_type": "display_data"
    },
    {
     "data": {
      "image/png": "[encoded data removed]",
      "text/plain": [
       "<matplotlib.figure.Figure at 0x1110f7a50>"
      ]
     },
     "metadata": {},
     "output_type": "display_data"
    }
   ],
   "source": [
    "# define initial condition   \n",
    "def ic(x,y):\n",
    "    # initial distribution is linear \n",
    "    #phi_ic = x*y\n",
    "    phi_ic=exact(x,y)\n",
    "    return phi_ic\n",
    "\n",
    "\n",
    "# define the exact solution\n",
    "def exact(x,y,return_source=\"no\"):\n",
    "    phi_exact = (2.0**(4.0*p)/(L_x**(2.0*p))/(L_y**(2.0*p)))*(x**p)*((L_x-x)**p)*(y**p)*((L_y-y)**p)\n",
    "    pm1 = p-1.0\n",
    "    pm2 = p-2.0\n",
    "    b_exact =(  \n",
    "              ( gamma * (2.0**(4.0*p)/(L_x**(2.0*p))/(L_y**(2.0*p))) *\n",
    "              ( (p-1)*p * (x**pm2) * ((L_x-x)**pm2) * ((L_x - x)**2 + x**2 ) \n",
    "              -  2.0*(p**2) * (x**pm1) * ((L_x - x)**pm1)) * (y**p)*((L_y-y)**p) ) +\n",
    "              ( gamma * (2.0**(4.0*p)/(L_x**(2.0*p))/(L_y**(2.0*p))) *\n",
    "              ( (p-1)*p * (y**pm2) * ((L_y-y)**pm2) * ((L_y - y)**2 + y**2 ) \n",
    "              -  2.0*(p**2) * (y**pm1) * ((L_y - y)**pm1)) * (x**p)*((L_x-x)**p) ))\n",
    "    # the function returns either the exact solution of its second derivative (source term)\n",
    "    if return_source == \"no\": \n",
    "        return_value = phi_exact\n",
    "    else:\n",
    "        return_value = b_exact\n",
    "    return return_value\n",
    "\n",
    "# plot the exact solution  to check that is what you expect...\n",
    "def exact_plot():\n",
    "    x = np.linspace(0,L_x,100)\n",
    "    y = np.linspace(0,L_y,100)\n",
    "    phi = np.zeros((100, 100)) #initialize, careful with the indices...\n",
    "    for j in range(100):\n",
    "        for i in range(100):\n",
    "            phi[j,i]=exact(x[i],y[j],return_source=\"no\")\n",
    "    pl.clf()\n",
    "    # make sure axis have labels  \n",
    "    X, Y = np.meshgrid(x, y)\n",
    "    pl.figure()\n",
    "    CS = pl.contour(X, Y, phi)\n",
    "    pl.gca().set_aspect('equal')\n",
    "    pl.clabel(CS, inline=1)\n",
    "    pl.xlabel(\"x\",fontsize=16) \n",
    "    pl.ylabel(\"y\",fontsize=16)  \n",
    "    pl.title('Exact Solution')\n",
    "    \n",
    "exact_plot()"
   ]
  },
  {
   "cell_type": "markdown",
   "metadata": {},
   "source": [
    "Some utility functions that will be useful later"
   ]
  },
  {
   "cell_type": "code",
   "execution_count": 233,
   "metadata": {
    "collapsed": true
   },
   "outputs": [],
   "source": [
    "# set initial condition   \n",
    "def initialize(ncv_x,ncv_y,xc,yc,phi):\n",
    "    for jcv in range(ncv_y):\n",
    "        for icv in range(ncv_x):\n",
    "            #phi[jcv,icv]=xc[icv]*yc[jcv]\n",
    "            phi[jcv,icv]=ic(xc[icv],yc[jcv])\n",
    "\n",
    "# generate the grid\n",
    "def generate_grid(ncv_x,ncv_y,nno_x,nno_y,x,y,xc,yc):\n",
    "    dx = L_x / (float)(ncv_x)    # spacing of the nodes\n",
    "    dy = L_y / (float)(ncv_y)    \n",
    "    \n",
    "    for ino in range(nno_x):\n",
    "        x[ino] = L_x*(float)(ino)/(float)(nno_x-1)\n",
    "    for jno in range(nno_y):\n",
    "        y[jno] = L_y*(float)(jno)/(float)(nno_y-1)\n",
    "            \n",
    "    for icv in range(ncv_x): \n",
    "        ino_east = icv+1\n",
    "        ino_west = icv\n",
    "        xc[icv] = 0.5*(x[ino_west]+x[ino_east]) \n",
    "    for jcv in range(ncv_y): \n",
    "        jno_north = jcv+1\n",
    "        jno_south = jcv\n",
    "        yc[jcv] = 0.5*(y[jno_north]+y[jno_south]) \n",
    "    return dx, dy\n",
    "     \n",
    "# compute exact solution\n",
    "def compute_exact(ncv_x,ncv_y,xc,yc,phi_exact):\n",
    "    for jcv in range(ncv_y):\n",
    "        for icv in range(ncv_x):\n",
    "            phi_exact[jcv,icv]=exact(xc[icv],yc[jcv])  # assume only diffusion...\n",
    "            \n",
    "# plot the solution and compare to the exact one\n",
    "def plot_solution(ncv_x,ncv_y,xc,yc,phi,phi_exact):\n",
    "    \n",
    "    X, Y = np.meshgrid(xc, yc)\n",
    "    pl.figure()\n",
    "    CS = pl.contour(X, Y, phi)\n",
    "    pl.clabel(CS, inline=1)\n",
    "    pl.gca().set_aspect('equal')\n",
    "    pl.xlabel(\"x\",fontsize=16) \n",
    "    pl.ylabel(\"y\",fontsize=16)  \n",
    "    pl.title('Computed Solution')\n",
    "    \n",
    "# compute the L2 norm of the error\n",
    "def compute_error(ncv_x,ncv_y,dx,dy,phi,phi_exact):   \n",
    "    error = np.zeros((ncv_y,ncv_x)) #initialize\n",
    "    for jcv in range(ncv_y):\n",
    "        for icv in range(ncv_x):\n",
    "            error[jcv,icv]=(phi[jcv,icv]-phi_exact[jcv,icv])\n",
    "    my_norm = np.sqrt(dx*dy*np.sum(error[1:ncv_y-1,1:ncv_x-1]**2))     \n",
    "    return my_norm"
   ]
  },
  {
   "cell_type": "markdown",
   "metadata": {},
   "source": [
    "## Linear System Solver\n",
    "\n",
    "Implicit schemes require a linear system solver. In 2D the discretization leads to a pentadiagonal system. The matrix of coefficient is stored in terms of diagonals\n",
    "\n",
    "$$ A_{north} \\phi_{north} + A_{east} \\phi_{east}  + A_{p} \\phi_{icv}  + A_{west} \\phi_{west} + A_{south} \\phi_{south}   = b_{icv} $$\n",
    "\n",
    "Two solvers are implemented, the standard Gauss-Seidel and the ILU solver (Stone method)."
   ]
  },
  {
   "cell_type": "code",
   "execution_count": 234,
   "metadata": {
    "collapsed": true
   },
   "outputs": [],
   "source": [
    "# solve a linear system using gauss-seidel\n",
    "def solve_gs(ncv_x,ncv_y,dx,dy,phi,a_east,a_west,a_north,a_south,a_p,b,n_iter,tolerance):\n",
    "    \n",
    "    res = np.zeros((ncv_y,ncv_x)) #initialize\n",
    "\n",
    "    for n in range(n_iter):\n",
    "        # update solution - internal cells\n",
    "        for jcv in range(ncv_y):\n",
    "            jcv_north = min(jcv+1,ncv_y-1)  # assumes a_north[ncv_y-1,icv]=0\n",
    "            jcv_south = max(jcv-1,0)        # assumes a_south[0,icv]=0\n",
    "            for icv in range(ncv_x):\n",
    "                icv_east = min(icv+1,ncv_x-1)   # assumes a_east[jcv,ncv_x-1]=0\n",
    "                icv_west = max(icv-1,0)         # assumes a_west[jcv,0]=0\n",
    "                phi[jcv,icv]=(b[jcv,icv]\n",
    "                          -a_east [jcv,icv]*phi[jcv,icv_east ]-a_west [jcv,icv]*phi[jcv,icv_west ] \n",
    "                          -a_north[jcv,icv]*phi[jcv_north,icv]-a_south[jcv,icv]*phi[jcv_south,icv])/a_p[jcv,icv]\n",
    "                \n",
    "        for jcv in range(ncv_y):\n",
    "            jcv_north = min(jcv+1,ncv_y-1)  # assumes a_north[ncv_y-1,icv]=0\n",
    "            icv_south = max(jcv-1,0)        # assumes a_south[0,icv]=0\n",
    "            for icv in range(ncv_x):\n",
    "                icv_east = min(icv+1,ncv_x-1)   # assumes a_east[jcv,ncv_x-1]=0\n",
    "                icv_west = max(icv-1,0)         # assumes a_west[jcv,0]=0\n",
    "                res[jcv,icv] = (b[jcv,icv]\n",
    "                        -a_east [jcv,icv]*phi[jcv,icv_east ]-a_west [jcv,icv]*phi[jcv,icv_west ]\n",
    "                        -a_north[jcv,icv]*phi[jcv_north,icv]-a_south[jcv,icv]*phi[jcv_south,icv]\n",
    "                        -a_p[jcv,icv]*phi[jcv,icv])\n",
    "                residual = np.sqrt(dx*dy*np.sum(res[0:ncv_y,0:ncv_x]**2))                     \n",
    "        if (n == 0):\n",
    "            residual0 = residual\n",
    "        if residual/residual0 < tolerance:\n",
    "            break\n",
    "    print \"Completed Gauss-Seidel Iteration \",n,\"Residual \",residual/residual0\n",
    "\n",
    "\n",
    "# solve a linear system using ILU\n",
    "def solve_ilu(ncv_x,ncv_y,dx,dy,phi,a_east,a_west,a_north,a_south,a_p,b,n_iter,tolerance):\n",
    "    small = 1.0E-8\n",
    "    alpha = 0.92 #under-relation factor...\n",
    "    l_west  = np.zeros((ncv_y,ncv_x))\n",
    "    l_south = np.zeros((ncv_y,ncv_x))\n",
    "    l_p     = np.zeros((ncv_y,ncv_x))\n",
    "    u_north = np.zeros((ncv_y,ncv_x))\n",
    "    u_east  = np.zeros((ncv_y,ncv_x))\n",
    "    res     = np.zeros((ncv_y,ncv_x))             \n",
    "     \n",
    "    # compute L/U coefficients\n",
    "    \n",
    "    for jcv in range(ncv_y):\n",
    "        jcv_south = max(jcv-1,0) \n",
    "        for icv in range(ncv_x):\n",
    "            icv_west = max(icv-1,0)         # assumes u_north[jcv,0]=0, a_west[jcv,0]=0 \n",
    "            l_west [jcv,icv] = a_west [jcv,icv]/(1.+alpha*u_north[jcv,icv_west])\n",
    "            l_south[jcv,icv] = a_south[jcv,icv]/(1.+alpha*u_east [jcv_south,icv] )\n",
    "            p1 = alpha*l_west [jcv,icv]*u_north[jcv,icv_west]\n",
    "            p2 = alpha*l_south[jcv,icv]*u_east [jcv_south,icv]            \n",
    "            l_p [jcv,icv]    = (a_p[jcv,icv]+p1+p2 -l_west [jcv,icv]*u_east [jcv,icv_west]\n",
    "                                                   -l_south[jcv,icv]*u_north[jcv_south,icv] )\n",
    "            u_north[jcv,icv] = (a_north[jcv,icv]-p1)/(l_p[jcv,icv]+small)\n",
    "            u_east [jcv,icv] = (a_east [jcv,icv]-p2)/(l_p[jcv,icv]+small)\n",
    "    \n",
    "    for n in range(n_iter):\n",
    "\n",
    "        # compute residual\n",
    "        residual = 0.0\n",
    "        for jcv in range(ncv_y):\n",
    "            jcv_north = min(jcv+1,ncv_y-1)  # assumes a_north[ncv_y-1,icv]=0\n",
    "            jcv_south = max(jcv-1,0)        # assumes a_south[0,icv]=0\n",
    "            for icv in range(ncv_x):\n",
    "                icv_east = min(icv+1,ncv_x-1)   # assumes a_east[jcv,ncv_x-1]=0\n",
    "                icv_west = max(icv-1,0)         # assumes a_west[jcv,0]=0\n",
    "                res[jcv,icv]=(b[jcv,icv]\n",
    "                            -a_east [jcv,icv]*phi[jcv,icv_east ]-a_west [jcv,icv]*phi[jcv,icv_west ]\n",
    "                            -a_north[jcv,icv]*phi[jcv_north,icv]-a_south[jcv,icv]*phi[jcv_south,icv]\n",
    "                            -a_p[jcv,icv]*phi[jcv,icv])\n",
    "                residual=residual+res[jcv,icv]*res[jcv,icv]\n",
    "                \n",
    "                res[jcv,icv]=(res[jcv,icv]-l_south[jcv,icv]*res[jcv_south,icv]\n",
    "                                          -l_west [jcv,icv]*res[jcv,icv_west] )/(l_p[jcv,icv]+small)  \n",
    "    \n",
    "        residual = np.sqrt(dx*dy*residual)\n",
    "        if (n == 0):\n",
    "            residual0 = residual\n",
    "        \n",
    "        # back-substitution\n",
    "        for jcv in range(ncv_y-1,-1,-1):\n",
    "            jcv_north = min(jcv+1,ncv_y-1)  # assumes a_north[ncv_y-1,icv]=0\n",
    "            for icv in range(ncv_x-1,-1,-1):\n",
    "                icv_east = min(icv+1,ncv_x-1)   # assumes a_east[jcv,ncv_x-1]=0\n",
    "                res[jcv,icv]=res[jcv,icv]-u_north[jcv,icv]*res[jcv_north,icv]-u_east[jcv,icv]*res[jcv,icv_east]\n",
    "                phi[jcv,icv]=phi[jcv,icv]+res[jcv,icv]\n",
    "                \n",
    "        #print \"It\",n,\"residual\",residual        \n",
    "        if residual/residual0 < tolerance:\n",
    "            break\n",
    "    print \"Completed ILU Iteration \",n,\"Residual \",residual/residual0"
   ]
  },
  {
   "cell_type": "markdown",
   "metadata": {},
   "source": [
    "## The discretization stencil\n",
    "Define the discretization schemes - implicit finite volume stencils in the form:\n",
    "\n",
    "$$ A_{north} \\phi_{north}  + A_{east} \\phi_{east} + A_{p} \\phi_{icv} + A_{west} \\phi_{west} + A_{south} \\phi_{south} = b_{icv} $$\n",
    "\n",
    "where $A_{east/west/north/south}$ correspond to the diffusive fluxes. Flux conservation guarantees that $A_p = - (A_{north} + A_{east}+ A_{west} + A_{south})$.\n",
    "\n",
    "Note that the boundary conditions and the source term are specified directly in terms of the exact solution."
   ]
  },
  {
   "cell_type": "code",
   "execution_count": 235,
   "metadata": {
    "collapsed": true
   },
   "outputs": [],
   "source": [
    "def fill_matrix(ncv_x,ncv_y,nno_x,nno_y,a_east,a_west,a_north,a_south,a_p,b,x,y,xc,yc,scheme=\"central\"):\n",
    "\n",
    "    # first the vertical faces...\n",
    "    for jcv in range(ncv_y):\n",
    "        \n",
    "        # compute surface areas\n",
    "        jno_north = jcv+1\n",
    "        jno_south = jcv\n",
    "        S_east = y[jno_north] - y[jno_south]\n",
    "        S_west = y[jno_north] - y[jno_south]\n",
    "        \n",
    "        # west boundaries\n",
    "        icv = 0\n",
    "        ino_west = icv\n",
    "        a_east [jcv,icv] = gamma/(xc[icv+1]-xc[icv])   * S_east\n",
    "        a_west_tmp       = gamma/(xc[icv]-x[ino_west]) * S_west\n",
    "        a_west [jcv,icv] = 0.0\n",
    "        a_p    [jcv,icv] = -( a_east [jcv,icv] + a_west_tmp)\n",
    "        b      [jcv,icv] = -a_west_tmp * exact(x[ino_west],yc[jcv])\n",
    "               \n",
    "        # internal cells\n",
    "        for icv in range (1,ncv_x-1):\n",
    "            a_east [jcv,icv] = gamma/(xc[icv+1]-xc[icv]) * S_east\n",
    "            a_west [jcv,icv] = gamma/(xc[icv]-xc[icv-1]) * S_west\n",
    "            a_p    [jcv,icv] = -( a_east [jcv,icv] + a_west [jcv,icv] )\n",
    "            b      [jcv,icv] = 0.0\n",
    "        \n",
    "        # east boundary\n",
    "        icv=ncv_x-1\n",
    "        ino_east = icv+1\n",
    "        a_east_tmp       = gamma/(x[ino_east]-xc[icv]) * S_east\n",
    "        a_east [jcv,icv] = 0.0\n",
    "        a_west [jcv,icv] = gamma/(xc[icv]-xc[icv-1])   * S_west\n",
    "        a_p    [jcv,icv] = -( a_west [jcv,icv] + a_east_tmp)\n",
    "        b      [jcv,icv] = -a_east_tmp * exact(x[ino_east],yc[jcv])\n",
    "        \n",
    "         \n",
    "    # now the horizontal ones\n",
    "    for icv in range (ncv_x):\n",
    "        \n",
    "        # compute surface areas\n",
    "        ino_east = icv+1\n",
    "        ino_west = icv\n",
    "        S_north = x[ino_east]-x[ino_west]\n",
    "        S_south = x[ino_east]-x[ino_west]\n",
    "                \n",
    "        # south boundary\n",
    "        jcv = 0\n",
    "        jno_south = jcv\n",
    "        a_north[jcv,icv] = gamma/(yc[jcv+1]-yc[jcv])     * S_north\n",
    "        a_south_tmp      = gamma/(yc[jcv]-y[jno_south])  * S_south\n",
    "        a_south[jcv,icv] = 0.0\n",
    "        b      [jcv,icv] = b  [jcv,icv] - a_south_tmp * exact(xc[icv],y[jno_south])\n",
    "        a_p    [jcv,icv] = a_p[jcv,icv] - (  a_north[jcv,icv] + a_south_tmp )\n",
    "\n",
    "     \n",
    "        # internal cells\n",
    "        for jcv in range (1,ncv_y-1):\n",
    "            a_north[jcv,icv] = gamma/(yc[jcv+1]-yc[jcv]) * S_north\n",
    "            a_south[jcv,icv] = gamma/(yc[jcv]-yc[jcv-1]) * S_south\n",
    "            a_p    [jcv,icv] = a_p[jcv,icv] - ( a_north[jcv,icv] + a_south[jcv,icv] ) \n",
    "            \n",
    "        # north boundary\n",
    "        jcv=ncv_y-1\n",
    "        jno_north = jcv+1\n",
    "        a_north_tmp      = gamma/(y[jno_north]-yc[jcv]) * S_north\n",
    "        a_south[jcv,icv] = gamma/(yc[jcv]-yc[jcv-1])    * S_south\n",
    "        a_north[jcv,icv] = 0.0\n",
    "        b      [jcv,icv] = b  [jcv,icv] - a_north_tmp * exact(xc[icv],y[jno_north]) \n",
    "        a_p    [jcv,icv] = a_p[jcv,icv] - ( a_south[jcv,icv] + a_north_tmp )\n",
    "\n",
    "    # source term for the Poisson equation\n",
    "    for jcv in range(ncv_y):\n",
    "        jno_north = jcv+1\n",
    "        jno_south = jcv\n",
    "        for icv in range (ncv_x):\n",
    "            ino_east = icv+1\n",
    "            ino_west = icv\n",
    "            volume = (x[ino_east]-x[ino_west])*(y[jno_north] - y[jno_south])\n",
    "            b[jcv,icv] = b[jcv,icv] + exact(xc[icv],yc[jcv],return_source=\"yes\")*volume\n",
    " "
   ]
  },
  {
   "cell_type": "markdown",
   "metadata": {},
   "source": [
    "Solution step"
   ]
  },
  {
   "cell_type": "code",
   "execution_count": 236,
   "metadata": {
    "collapsed": true
   },
   "outputs": [],
   "source": [
    "\n",
    "            \n",
    "# solve the PDE\n",
    "def solve(ncv_x,ncv_y,scheme=\"central\",solver=\"gs\",plot=1):  \n",
    "    \n",
    "    nno_x = ncv_x+1        # number of nodes\n",
    "    nno_y = ncv_y+1        # number of nodes\n",
    "\n",
    "    x = np.zeros(nno_x)    # node coordinates!\n",
    "    y = np.zeros(nno_y)   \n",
    "    xc = np.zeros(ncv_x)   # control volume centroid\n",
    "    yc = np.zeros(ncv_y) \n",
    "    \n",
    "    dx,dy = generate_grid(ncv_x,ncv_y,nno_x,nno_y,x,y,xc,yc)\n",
    "    \n",
    "    #print \"dx,dy\",dx,dy\n",
    "    #print \"x\",x,\"y\",y\n",
    "    #print \"xc\",xc,\"yc\",yc\n",
    "    \n",
    "    phi = np.zeros((ncv_y,ncv_x)) \n",
    "    phi_exact = np.zeros((ncv_y,ncv_x))\n",
    "    \n",
    "    # setup matrix and right hand side\n",
    "    a_east  = np.zeros((ncv_y,ncv_x)) \n",
    "    a_west  = np.zeros((ncv_y,ncv_x)) \n",
    "    a_north = np.zeros((ncv_y,ncv_x)) \n",
    "    a_south = np.zeros((ncv_y,ncv_x))  \n",
    "    a_p     = np.zeros((ncv_y,ncv_x)) \n",
    "    b       = np.zeros((ncv_y,ncv_x))  \n",
    "    \n",
    "    initialize(ncv_x,ncv_y,xc,yc,phi) #initialize\n",
    " \n",
    "    fill_matrix(ncv_x,ncv_y,nno_x,nno_y,a_east,a_west,a_north,a_south,a_p,b,x,y,xc,yc,scheme)\n",
    "    if solver==\"gs\":\n",
    "        solve_gs(ncv_x,ncv_y,dx,dy,phi,a_east,a_west,a_north,a_south,a_p,b,1000,1.0e-5)\n",
    "    else:\n",
    "        solve_ilu(ncv_x,ncv_y,dx,dy,phi,a_east,a_west,a_north,a_south,a_p,b,100,1.0e-8)\n",
    "    \n",
    "    # compare the solution with the exact and compute the L2 norm\n",
    "    compute_exact(ncv_x,ncv_y,xc,yc,phi_exact)\n",
    "    enorm = compute_error(ncv_x,ncv_y,dx,dy,phi,phi_exact)\n",
    "    if plot:\n",
    "        plot_solution(ncv_x,ncv_y,xc,yc,phi,phi_exact)\n",
    "    return dx,dy,enorm"
   ]
  },
  {
   "cell_type": "markdown",
   "metadata": {},
   "source": [
    "## Let's compute something\n",
    "Start with purely symmetric (centered) discretization for both convective and diffusive fluxes "
   ]
  },
  {
   "cell_type": "code",
   "execution_count": 237,
   "metadata": {},
   "outputs": [
    {
     "name": "stdout",
     "output_type": "stream",
     "text": [
      "Completed ILU Iteration  99 Residual  1.07042278356e-08\n",
      "Norm =  0.00345330993482\n"
     ]
    },
    {
     "data": {
      "image/png": "[encoded data removed]",
      "text/plain": [
       "<matplotlib.figure.Figure at 0x111349650>"
      ]
     },
     "metadata": {},
     "output_type": "display_data"
    }
   ],
   "source": [
    "none, none, enorm = solve(36,36,\"central\",\"ilu\",1)\n",
    "print \"Norm = \",enorm"
   ]
  },
  {
   "cell_type": "markdown",
   "metadata": {},
   "source": [
    "## Grid Convergence Study\n",
    "Perform a quantitative analysis of the error. Using multiple grids and compare the L2 norm reduction. "
   ]
  },
  {
   "cell_type": "code",
   "execution_count": 238,
   "metadata": {},
   "outputs": [
    {
     "name": "stdout",
     "output_type": "stream",
     "text": [
      "Completed ILU Iteration  40 Residual  6.95420643283e-09\n",
      "Grid  0  Delta =  0.1875  Error = 0.0180213577071\n",
      "Completed ILU Iteration  80 Residual  9.89095930059e-09\n",
      "Grid  1  Delta =  0.09375  Error = 0.00437912194418\n",
      "Completed ILU Iteration  99 Residual  7.03400898703e-05\n",
      "Grid  2  Delta =  0.046875  Error = 0.00108713312789\n",
      "Completed ILU Iteration  99 Residual  0.00199565619122\n",
      "Grid  3  Delta =  0.0234375  Error = 0.000270582510337\n"
     ]
    }
   ],
   "source": [
    "#set up a sequence of grids\n",
    "ngrids = 4\n",
    "n = [16,32,64,128]\n",
    "delta = np.zeros(ngrids)\n",
    "l2 = np.zeros(ngrids)\n",
    "nr = np.array(n, dtype=np.float64)  # make this real for plotting\n",
    "\n",
    "# perform the simulations on each grid with different FD schemes\n",
    "for ig in range(ngrids):\n",
    "    delta[ig] = L_x/(float)(n[ig])\n",
    "    none, none, l2[ig] = solve(n[ig],n[ig],\"central\",\"ilu\",0)\n",
    "    print \"Grid \",ig,\" Delta = \",delta[ig],\" Error =\",l2[ig]"
   ]
  },
  {
   "cell_type": "code",
   "execution_count": 239,
   "metadata": {},
   "outputs": [
    {
     "data": {
      "image/png": "[encoded data removed]",
      "text/plain": [
       "<matplotlib.figure.Figure at 0x110def210>"
      ]
     },
     "metadata": {},
     "output_type": "display_data"
    }
   ],
   "source": [
    "# plot the classical convergence diagram with first & second order slopes\n",
    "pl.clf()\n",
    "pl.scatter(delta, l2/l2[0],color=\"r\", label=\"central\")\n",
    "pl.plot(delta,(delta/delta[0]),color=\"k\",label=r\"$\\mathcal{O}(\\Delta x)$\")\n",
    "pl.plot(delta,((delta/delta[0])**2),color=\"r\",label=r\"$\\mathcal{O}(\\Delta x^2)$\")\n",
    "ax = pl.gca()\n",
    "ax.set_xscale('log')\n",
    "ax.set_yscale('log')\n",
    "pl.xlabel(r\"Discretization step, $\\Delta$\",fontsize=16)\n",
    "pl.ylabel(r\"$\\|| \\phi - \\phi^\\mathrm{exact} \\||_2$\",fontsize=16)\n",
    "pl.legend(frameon=False);"
   ]
  },
  {
   "cell_type": "markdown",
   "metadata": {},
   "source": [
    "## Further work\n",
    "\n",
    "Implement a Neumann boundary condition (based on the exact solution) on the $y=0$ boundary"
   ]
  },
  {
   "cell_type": "code",
   "execution_count": null,
   "metadata": {
    "collapsed": true
   },
   "outputs": [],
   "source": []
  }
 ],
 "metadata": {
  "kernelspec": {
   "display_name": "Python 2",
   "language": "python",
   "name": "python2"
  },
  "language_info": {
   "codemirror_mode": {
    "name": "ipython",
    "version": 2
   },
   "file_extension": ".py",
   "mimetype": "text/x-python",
   "name": "python",
   "nbconvert_exporter": "python",
   "pygments_lexer": "ipython2",
   "version": "2.7.14"
  }
 },
 "nbformat": 4,
 "nbformat_minor": 2
}
